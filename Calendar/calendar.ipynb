{
 "cells": [
  {
   "cell_type": "code",
   "execution_count": 17,
   "metadata": {
    "collapsed": true
   },
   "outputs": [],
   "source": [
    "#sys.path.remove('http://localhost:8889/notebooks/Projects/Calendar')\n",
    "sys.path.remove('http://localhost:8889/notebooks/Projects/Calendar/')\n",
    "sys.path.remove('notebooks/Projects/Calendar/')\n",
    "sys.path.remove('localhost:8889/notebooks/Projects/Calendar/')"
   ]
  },
  {
   "cell_type": "code",
   "execution_count": 27,
   "metadata": {
    "collapsed": true
   },
   "outputs": [
    {
     "ename": "NameError",
     "evalue": "name 'false' is not defined",
     "output_type": "error",
     "traceback": [
      "\u001b[1;31m---------------------------------------------------------------------------\u001b[0m",
      "\u001b[1;31mNameError\u001b[0m                                 Traceback (most recent call last)",
      "\u001b[1;32m<ipython-input-27-e4fa29e55377>\u001b[0m in \u001b[0;36m<module>\u001b[1;34m()\u001b[0m\n\u001b[0;32m      1\u001b[0m \u001b[1;32mimport\u001b[0m \u001b[0mimp\u001b[0m\u001b[1;33m\u001b[0m\u001b[0m\n\u001b[0;32m      2\u001b[0m \u001b[1;33m\u001b[0m\u001b[0m\n\u001b[1;32m----> 3\u001b[1;33m \u001b[0mfoo\u001b[0m \u001b[1;33m=\u001b[0m \u001b[0mimp\u001b[0m\u001b[1;33m.\u001b[0m\u001b[0mload_source\u001b[0m\u001b[1;33m(\u001b[0m\u001b[1;34m'module.name'\u001b[0m\u001b[1;33m,\u001b[0m \u001b[1;34m'/home/tanoshi/.ipython/Projects/Calendar/functions.ipynb'\u001b[0m\u001b[1;33m)\u001b[0m\u001b[1;33m\u001b[0m\u001b[0m\n\u001b[0m\u001b[0;32m      4\u001b[0m \u001b[0mfoo\u001b[0m\u001b[1;33m.\u001b[0m\u001b[0mMyClass\u001b[0m\u001b[1;33m(\u001b[0m\u001b[1;33m)\u001b[0m\u001b[1;33m\u001b[0m\u001b[0m\n",
      "\u001b[1;32m/home/tanoshi/anaconda3/lib/python3.4/imp.py\u001b[0m in \u001b[0;36mload_source\u001b[1;34m(name, pathname, file)\u001b[0m\n\u001b[0;32m    169\u001b[0m         \u001b[0mmodule\u001b[0m \u001b[1;33m=\u001b[0m \u001b[0mmethods\u001b[0m\u001b[1;33m.\u001b[0m\u001b[0mexec\u001b[0m\u001b[1;33m(\u001b[0m\u001b[0msys\u001b[0m\u001b[1;33m.\u001b[0m\u001b[0mmodules\u001b[0m\u001b[1;33m[\u001b[0m\u001b[0mname\u001b[0m\u001b[1;33m]\u001b[0m\u001b[1;33m)\u001b[0m\u001b[1;33m\u001b[0m\u001b[0m\n\u001b[0;32m    170\u001b[0m     \u001b[1;32melse\u001b[0m\u001b[1;33m:\u001b[0m\u001b[1;33m\u001b[0m\u001b[0m\n\u001b[1;32m--> 171\u001b[1;33m         \u001b[0mmodule\u001b[0m \u001b[1;33m=\u001b[0m \u001b[0mmethods\u001b[0m\u001b[1;33m.\u001b[0m\u001b[0mload\u001b[0m\u001b[1;33m(\u001b[0m\u001b[1;33m)\u001b[0m\u001b[1;33m\u001b[0m\u001b[0m\n\u001b[0m\u001b[0;32m    172\u001b[0m     \u001b[1;31m# To allow reloading to potentially work, use a non-hacked loader which\u001b[0m\u001b[1;33m\u001b[0m\u001b[1;33m\u001b[0m\u001b[0m\n\u001b[0;32m    173\u001b[0m     \u001b[1;31m# won't rely on a now-closed file object.\u001b[0m\u001b[1;33m\u001b[0m\u001b[1;33m\u001b[0m\u001b[0m\n",
      "\u001b[1;32m/home/tanoshi/anaconda3/lib/python3.4/importlib/_bootstrap.py\u001b[0m in \u001b[0;36mload\u001b[1;34m(self)\u001b[0m\n",
      "\u001b[1;32m/home/tanoshi/anaconda3/lib/python3.4/importlib/_bootstrap.py\u001b[0m in \u001b[0;36m_load_unlocked\u001b[1;34m(self)\u001b[0m\n",
      "\u001b[1;32m/home/tanoshi/anaconda3/lib/python3.4/importlib/_bootstrap.py\u001b[0m in \u001b[0;36m_exec\u001b[1;34m(self, module)\u001b[0m\n",
      "\u001b[1;32m/home/tanoshi/anaconda3/lib/python3.4/importlib/_bootstrap.py\u001b[0m in \u001b[0;36mexec_module\u001b[1;34m(self, module)\u001b[0m\n",
      "\u001b[1;32m/home/tanoshi/anaconda3/lib/python3.4/importlib/_bootstrap.py\u001b[0m in \u001b[0;36m_call_with_frames_removed\u001b[1;34m(f, *args, **kwds)\u001b[0m\n",
      "\u001b[1;32m/home/tanoshi/.ipython/Projects/Calendar/functions.ipynb\u001b[0m in \u001b[0;36m<module>\u001b[1;34m()\u001b[0m\n\u001b[0;32m     12\u001b[0m    \u001b[1;34m\"execution_count\"\u001b[0m\u001b[1;33m:\u001b[0m \u001b[1;36m24\u001b[0m\u001b[1;33m,\u001b[0m\u001b[1;33m\u001b[0m\u001b[0m\n\u001b[0;32m     13\u001b[0m    \"metadata\": {\n\u001b[1;32m---> 14\u001b[1;33m     \u001b[1;34m\"collapsed\"\u001b[0m\u001b[1;33m:\u001b[0m \u001b[0mfalse\u001b[0m\u001b[1;33m\u001b[0m\u001b[0m\n\u001b[0m\u001b[0;32m     15\u001b[0m    },\n\u001b[0;32m     16\u001b[0m    \u001b[1;34m\"outputs\"\u001b[0m\u001b[1;33m:\u001b[0m \u001b[1;33m[\u001b[0m\u001b[1;33m]\u001b[0m\u001b[1;33m,\u001b[0m\u001b[1;33m\u001b[0m\u001b[0m\n",
      "\u001b[1;31mNameError\u001b[0m: name 'false' is not defined"
     ]
    }
   ],
   "source": [
    "import imp\n",
    "\n",
    "foo = imp.load_source('module.name', '/home/tanoshi/.ipython/Projects/Calendar/functions.ipynb')\n",
    "foo.MyClass() "
   ]
  },
  {
   "cell_type": "code",
   "execution_count": 8,
   "metadata": {
    "collapsed": false
   },
   "outputs": [
    {
     "ename": "ImportError",
     "evalue": "No module named 'calfunctions'",
     "output_type": "error",
     "traceback": [
      "\u001b[1;31m---------------------------------------------------------------------------\u001b[0m",
      "\u001b[1;31mImportError\u001b[0m                               Traceback (most recent call last)",
      "\u001b[1;32m<ipython-input-8-920979129361>\u001b[0m in \u001b[0;36m<module>\u001b[1;34m()\u001b[0m\n\u001b[0;32m      2\u001b[0m \u001b[1;31m#import sys\u001b[0m\u001b[1;33m\u001b[0m\u001b[1;33m\u001b[0m\u001b[0m\n\u001b[0;32m      3\u001b[0m \u001b[1;31m#sys.path.append('/home/tanoshi/.ipython/Projects/Calendar')\u001b[0m\u001b[1;33m\u001b[0m\u001b[1;33m\u001b[0m\u001b[0m\n\u001b[1;32m----> 4\u001b[1;33m \u001b[1;32mimport\u001b[0m \u001b[0mcalfunctions\u001b[0m\u001b[1;33m\u001b[0m\u001b[0m\n\u001b[0m\u001b[0;32m      5\u001b[0m \u001b[0mprint\u001b[0m\u001b[1;33m(\u001b[0m\u001b[0mfunctions\u001b[0m\u001b[1;33m.\u001b[0m\u001b[0mschaltjahr\u001b[0m\u001b[1;33m(\u001b[0m\u001b[1;36m2014\u001b[0m\u001b[1;33m)\u001b[0m\u001b[1;33m)\u001b[0m\u001b[1;33m\u001b[0m\u001b[0m\n",
      "\u001b[1;31mImportError\u001b[0m: No module named 'calfunctions'"
     ]
    }
   ],
   "source": [
    "#sys.path.remove('/home/tanoshi/.ipython/Projects/Calendar')\n",
    "#import sys\n",
    "#sys.path.append('/home/tanoshi/.ipython/Projects/Calendar')\n",
    "import calfunctions\n",
    "print(functions.schaltjahr(2014))"
   ]
  },
  {
   "cell_type": "code",
   "execution_count": 35,
   "metadata": {
    "collapsed": false
   },
   "outputs": [
    {
     "data": {
      "text/plain": [
       "['',\n",
       " '/home/tanoshi/anaconda3/lib/python34.zip',\n",
       " '/home/tanoshi/anaconda3/lib/python3.4',\n",
       " '/home/tanoshi/anaconda3/lib/python3.4/plat-linux',\n",
       " '/home/tanoshi/anaconda3/lib/python3.4/lib-dynload',\n",
       " '/home/tanoshi/anaconda3/lib/python3.4/site-packages',\n",
       " '/home/tanoshi/anaconda3/lib/python3.4/site-packages/Sphinx-1.2.3-py3.4.egg',\n",
       " '/home/tanoshi/anaconda3/lib/python3.4/site-packages/cryptography-0.8-py3.4-linux-x86_64.egg',\n",
       " '/home/tanoshi/anaconda3/lib/python3.4/site-packages/nose-1.3.4-py3.4.egg',\n",
       " '/home/tanoshi/anaconda3/lib/python3.4/site-packages/setuptools-16.0-py3.4.egg',\n",
       " '/home/tanoshi/anaconda3/lib/python3.4/site-packages/IPython/extensions',\n",
       " '/home/tanoshi/.ipython/Projects/Calendar']"
      ]
     },
     "execution_count": 35,
     "metadata": {},
     "output_type": "execute_result"
    }
   ],
   "source": [
    "sys.path"
   ]
  },
  {
   "cell_type": "code",
   "execution_count": null,
   "metadata": {
    "collapsed": true
   },
   "outputs": [],
   "source": []
  }
 ],
 "metadata": {
  "kernelspec": {
   "display_name": "Python 3",
   "language": "python",
   "name": "python3"
  },
  "language_info": {
   "codemirror_mode": {
    "name": "ipython",
    "version": 3
   },
   "file_extension": ".py",
   "mimetype": "text/x-python",
   "name": "python",
   "nbconvert_exporter": "python",
   "pygments_lexer": "ipython3",
   "version": "3.4.3"
  }
 },
 "nbformat": 4,
 "nbformat_minor": 0
}
